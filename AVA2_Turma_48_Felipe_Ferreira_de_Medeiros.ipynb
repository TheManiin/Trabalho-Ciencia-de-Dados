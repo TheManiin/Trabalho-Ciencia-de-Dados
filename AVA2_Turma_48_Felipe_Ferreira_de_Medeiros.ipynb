{
  "nbformat": 4,
  "nbformat_minor": 0,
  "metadata": {
    "colab": {
      "provenance": []
    },
    "kernelspec": {
      "name": "python3",
      "display_name": "Python 3"
    },
    "language_info": {
      "name": "python"
    }
  },
  "cells": [
    {
      "cell_type": "markdown",
      "source": [
        "**Nomes e RA**\n",
        "\n",
        "Felipe Ferreira de Medeiros\n",
        "3019101810\n",
        "\n",
        "Cintia Regina da Conceicao Lopes\n",
        "3022100478\n",
        "\n",
        "Rafael dos Santos Silva\n",
        "3022103882\n",
        "\n",
        "Emily Onofre Rodrigues\n",
        "3024106554\n",
        "\n",
        "Henrique dos Santos Moreira\n",
        "3022107720\n",
        "\n",
        "Leandro Cesarini Alves Batista\n",
        "3022203187\n",
        "\n",
        "Gustavo Henrique B Dias\n",
        "3022201083\n",
        "\n",
        "Lucas Lunardi Barros\n",
        "3022102523\n",
        "\n",
        "Lucas Correa de Jesus\n",
        "3024106885\n",
        "\n",
        "Wagner Rodrigues\n",
        "3022201803"
      ],
      "metadata": {
        "id": "dh1o971LkIv0"
      }
    },
    {
      "cell_type": "code",
      "execution_count": 1,
      "metadata": {
        "colab": {
          "base_uri": "https://localhost:8080/"
        },
        "id": "uPnC-P5zE8jB",
        "outputId": "982b2cfc-8f19-4f6a-dea0-5d815686bbfe"
      },
      "outputs": [
        {
          "output_type": "stream",
          "name": "stdout",
          "text": [
            "Mounted at /content/drive\n"
          ]
        }
      ],
      "source": [
        "# Conexão com o drive\n",
        "from google.colab import drive\n",
        "drive.mount('/content/drive')"
      ]
    },
    {
      "cell_type": "code",
      "source": [
        "# Carrega a biblioteca pandas e atribui um alias chamado \"pd\"\n",
        "import pandas as pd\n",
        "\n",
        "# Visualização de dados\n",
        "import matplotlib.pyplot as plt\n",
        "import seaborn as sns\n",
        "\n",
        "# Deixar colunas e linhas aparentes\n",
        "pd.set_option('display.max_columns', None)\n",
        "pd.set_option('display.max_rows', None)"
      ],
      "metadata": {
        "id": "Hn1OWYj4G3xs"
      },
      "execution_count": 2,
      "outputs": []
    },
    {
      "cell_type": "code",
      "source": [
        "#Faz a leitura do arquivo igm_modificado.csv - alterar o caminho de onde está dua tabela\n",
        "df = pd.read_csv('/content/drive/MyDrive/salários - salários.csv')\n",
        "df.shape"
      ],
      "metadata": {
        "colab": {
          "base_uri": "https://localhost:8080/"
        },
        "id": "rWfeSBCpG67a",
        "outputId": "0ecbb1d8-ea27-4a23-d884-7f2925484bba"
      },
      "execution_count": 3,
      "outputs": [
        {
          "output_type": "execute_result",
          "data": {
            "text/plain": [
              "(3771, 13)"
            ]
          },
          "metadata": {},
          "execution_count": 3
        }
      ]
    },
    {
      "cell_type": "code",
      "source": [
        "# Verificar as colunas do DataFrame\n",
        "colunas = df.columns\n",
        "print(colunas)"
      ],
      "metadata": {
        "colab": {
          "base_uri": "https://localhost:8080/"
        },
        "id": "F9bK7WPfIY4z",
        "outputId": "02e23d51-9c7b-4b5e-9f5e-33e3fbf8a0f4"
      },
      "execution_count": 4,
      "outputs": [
        {
          "output_type": "stream",
          "name": "stdout",
          "text": [
            "Index(['Unnamed: 0', 'work_year', 'experience_level', 'employment_type',\n",
            "       'job_title', 'salary', 'salary_currency', 'salary_in_usd',\n",
            "       'employee_residence', 'remote_ratio', 'company_location',\n",
            "       'company_size', 'country_employee'],\n",
            "      dtype='object')\n"
          ]
        }
      ]
    },
    {
      "cell_type": "code",
      "source": [
        "# Exercício 1"
      ],
      "metadata": {
        "id": "0dXJeLs4kcqr"
      },
      "execution_count": 5,
      "outputs": []
    },
    {
      "cell_type": "code",
      "source": [
        "# Definindo o valor de referência para comparação\n",
        "salario_referencia = 15000\n",
        "\n",
        "# Contadores para acompanhar quantos salários estão acima, abaixo ou igual ao valor de referência\n",
        "acima_referencia = 0\n",
        "abaixo_referencia = 0\n",
        "igual_referencia = 0\n",
        "\n",
        "# Verificando o salário em relação ao valor de referência\n",
        "for salario in df['salary']:\n",
        "    if salario > salario_referencia:\n",
        "        acima_referencia += 1\n",
        "    elif salario < salario_referencia:\n",
        "        abaixo_referencia += 1\n",
        "    else:\n",
        "        igual_referencia += 1\n",
        "\n",
        "# Imprimindo os resultados\n",
        "print(f\"Salários acima de {salario_referencia}: {acima_referencia}\")\n",
        "print(f\"Salários abaixo de {salario_referencia}: {abaixo_referencia}\")\n",
        "print(f\"Salários iguais a {salario_referencia}: {igual_referencia}\")"
      ],
      "metadata": {
        "colab": {
          "base_uri": "https://localhost:8080/"
        },
        "id": "aizs9NQQNDhX",
        "outputId": "3600d581-9d43-406a-fc8b-70cd285d6456"
      },
      "execution_count": 6,
      "outputs": [
        {
          "output_type": "stream",
          "name": "stdout",
          "text": [
            "Salários acima de 15000: 3742\n",
            "Salários abaixo de 15000: 25\n",
            "Salários iguais a 15000: 4\n"
          ]
        }
      ]
    },
    {
      "cell_type": "markdown",
      "source": [
        "Contexto da Análise:\n",
        "\n",
        "Analisamos os salários dos profissionais de dados registrados na tabela. Nosso objetivo foi entender como a distribuição dos salários se relaciona com um valor de referência de 15000. Assim, podemos identificar quantos profissionais ganham acima, abaixo ou igual a esse valor estabelecido, o que ajuda a fornecer ideias bases sobre a faixa salarial dos profissionais de dados.\n",
        "\n",
        "Análise dos Resultados:\n",
        "\n",
        "A análise revela que a maioria dos profissionais de dados ganha acima de 15000, com 3742 salários nesta faixa. Isso nos mostra que há uma alta remuneração na área de informática, muito provavelmente, devido à demanda por habilidades em ciência e análise de dados. No entanto, cerca de 25 profissionais ganham abaixo desse valor, o que sugere variações salariais. A presença de 4 salários iguais a 15000 unidades pode indicar faixas salariais padrão em algumas empresas."
      ],
      "metadata": {
        "id": "V1xrW8GKPdu3"
      }
    },
    {
      "cell_type": "code",
      "source": [
        "# Exercício 2"
      ],
      "metadata": {
        "id": "gEBhQgGglB5P"
      },
      "execution_count": 7,
      "outputs": []
    },
    {
      "cell_type": "code",
      "source": [
        "# Contagem do número de ocorrências para cada nível de experiência\n",
        "contagem_experiencia = df['experience_level'].value_counts()\n",
        "\n",
        "# Imprimindo as informações da coluna 'experience_level'\n",
        "print(contagem_experiencia)"
      ],
      "metadata": {
        "colab": {
          "base_uri": "https://localhost:8080/"
        },
        "id": "U9guiSYMTuh2",
        "outputId": "032f67c0-0244-48d5-a4ea-d8edf35547c7"
      },
      "execution_count": 8,
      "outputs": [
        {
          "output_type": "stream",
          "name": "stdout",
          "text": [
            "experience_level\n",
            "SE    2520\n",
            "MI     811\n",
            "EN     324\n",
            "EX     116\n",
            "Name: count, dtype: int64\n"
          ]
        }
      ]
    },
    {
      "cell_type": "code",
      "source": [
        "# Contagens fornecidas para cada nível de experiência\n",
        "contagem_experiencia = {\n",
        "    'SE': 2520,\n",
        "    'MI': 811,\n",
        "    'EN': 324,\n",
        "    'EX': 116\n",
        "}\n",
        "\n",
        "# Definindo as categorias com base no nível de experiência\n",
        "senior = contagem_experiencia.get('SE', 0)\n",
        "pleno = contagem_experiencia.get('MI', 0)\n",
        "junior = contagem_experiencia.get('EN', 0)\n",
        "especialista = contagem_experiencia.get('EX', 0)\n",
        "\n",
        "# Imprimindo as categorias e seus respectivos números de ocorrências\n",
        "print(\"Número de funcionários por nível de experiência:\")\n",
        "print(\"SE (Sênior):\", senior)\n",
        "print(\"MI (Pleno):\", pleno)\n",
        "print(\"EN (Junior):\", junior)\n",
        "print(\"EX (Especialista):\", especialista)\n",
        "\n",
        "# Desvio condicional encadeado para análise dos resultados\n",
        "if senior > pleno and senior > junior and  senior > especialista:\n",
        "    print(\"A maioria dos funcionários está no nível Sênior.\")\n",
        "elif pleno > senior and pleno > junior and pleno > especialista:\n",
        "    print(\"A maioria dos funcionários está no nível Pleno.\")\n",
        "elif junior > senior and junior > pleno and junior > especialista:\n",
        "    print(\"A maioria dos funcionários está no nível Junior.\")\n",
        "elif especialista > senior and especialista > pleno and especialista > junior:\n",
        "    print(\"A maioria dos funcionários está no nível Especialista.\")\n",
        "else:\n",
        "    print(\"Não há um nível de experiência dominante entre os funcionários.\")"
      ],
      "metadata": {
        "colab": {
          "base_uri": "https://localhost:8080/"
        },
        "id": "9XO9CdaqVBdK",
        "outputId": "929b8bf7-6d4b-4892-ff61-afff75c97cd0"
      },
      "execution_count": 9,
      "outputs": [
        {
          "output_type": "stream",
          "name": "stdout",
          "text": [
            "Número de funcionários por nível de experiência:\n",
            "SE (Sênior): 2520\n",
            "MI (Pleno): 811\n",
            "EN (Junior): 324\n",
            "EX (Especialista): 116\n",
            "A maioria dos funcionários está no nível Sênior.\n"
          ]
        }
      ]
    },
    {
      "cell_type": "markdown",
      "source": [
        "Contexto da Análise:\n",
        "\n",
        "Esta analise de dados foi feita para medir os níveis de experiencia dos cientistas de dados, e como é distribuída para as equipes junior, pleno, sênior e especialistas.\n",
        "\n",
        "Análise dos Resultados:\n",
        "\n",
        "Os resultados mostram que a maioria dos cientistas de dados estão nos níveis Sênior (SE) e Pleno (MI). Isso sugere que há uma quantidade significativa de profissionais de dados com experiência intermediária/avançada nas equipes. No entanto, também há um número considerável de cientistas de dados no nível Júnior (EN), o que indica a presença de profissionais em estágios iniciais de suas carreiras na área. O número de cientistas de dados no nível Especialista (EX) é menor em relação aos outros"
      ],
      "metadata": {
        "id": "n-vtoMzxb9Bk"
      }
    },
    {
      "cell_type": "code",
      "source": [
        "# Exercício 3"
      ],
      "metadata": {
        "id": "zAA6n0FOnsJd"
      },
      "execution_count": 10,
      "outputs": []
    },
    {
      "cell_type": "code",
      "source": [
        "contagem_por_pais = {}\n",
        "\n",
        "for pais in df['company_location']:\n",
        "    if pais in contagem_por_pais:\n",
        "        contagem_por_pais[pais] += 1\n",
        "    else:\n",
        "        contagem_por_pais[pais] = 1\n",
        "\n",
        "# Mostrar os resultados\n",
        "print(\"Distribuição de Empregadores por País:\")\n",
        "for pais, contagem in contagem_por_pais.items():\n",
        "    print(f\"{pais}: {contagem} profissionais de dados\")"
      ],
      "metadata": {
        "colab": {
          "base_uri": "https://localhost:8080/"
        },
        "id": "-m4CD0eYec_o",
        "outputId": "7a59a2de-8467-4e66-c8e1-1a43348e135b"
      },
      "execution_count": 11,
      "outputs": [
        {
          "output_type": "stream",
          "name": "stdout",
          "text": [
            "Distribuição de Empregadores por País:\n",
            "ES: 77 profissionais de dados\n",
            "US: 3046 profissionais de dados\n",
            "CA: 87 profissionais de dados\n",
            "DE: 56 profissionais de dados\n",
            "GB: 173 profissionais de dados\n",
            "NG: 5 profissionais de dados\n",
            "IN: 58 profissionais de dados\n",
            "HK: 1 profissionais de dados\n",
            "NL: 13 profissionais de dados\n",
            "CH: 5 profissionais de dados\n",
            "CF: 2 profissionais de dados\n",
            "FR: 34 profissionais de dados\n",
            "FI: 3 profissionais de dados\n",
            "UA: 4 profissionais de dados\n",
            "IE: 7 profissionais de dados\n",
            "IL: 2 profissionais de dados\n",
            "GH: 2 profissionais de dados\n",
            "CO: 4 profissionais de dados\n",
            "SG: 6 profissionais de dados\n",
            "AU: 14 profissionais de dados\n",
            "SE: 2 profissionais de dados\n",
            "SI: 4 profissionais de dados\n",
            "MX: 10 profissionais de dados\n",
            "BR: 15 profissionais de dados\n",
            "PT: 14 profissionais de dados\n",
            "RU: 5 profissionais de dados\n",
            "TH: 6 profissionais de dados\n",
            "HR: 3 profissionais de dados\n",
            "VN: 2 profissionais de dados\n",
            "EE: 3 profissionais de dados\n",
            "AM: 1 profissionais de dados\n",
            "BA: 1 profissionais de dados\n",
            "KE: 2 profissionais de dados\n",
            "GR: 14 profissionais de dados\n",
            "MK: 1 profissionais de dados\n",
            "LV: 4 profissionais de dados\n",
            "RO: 2 profissionais de dados\n",
            "PK: 4 profissionais de dados\n",
            "IT: 4 profissionais de dados\n",
            "MA: 1 profissionais de dados\n",
            "PL: 5 profissionais de dados\n",
            "AL: 1 profissionais de dados\n",
            "AR: 3 profissionais de dados\n",
            "LT: 2 profissionais de dados\n",
            "AS: 3 profissionais de dados\n",
            "CR: 1 profissionais de dados\n",
            "IR: 1 profissionais de dados\n",
            "BS: 1 profissionais de dados\n",
            "HU: 2 profissionais de dados\n",
            "AT: 6 profissionais de dados\n",
            "SK: 1 profissionais de dados\n",
            "CZ: 3 profissionais de dados\n",
            "TR: 5 profissionais de dados\n",
            "PR: 4 profissionais de dados\n",
            "DK: 4 profissionais de dados\n",
            "BO: 2 profissionais de dados\n",
            "PH: 1 profissionais de dados\n",
            "BE: 4 profissionais de dados\n",
            "ID: 2 profissionais de dados\n",
            "EG: 1 profissionais de dados\n",
            "AE: 3 profissionais de dados\n",
            "LU: 3 profissionais de dados\n",
            "MY: 1 profissionais de dados\n",
            "HN: 1 profissionais de dados\n",
            "JP: 6 profissionais de dados\n",
            "DZ: 1 profissionais de dados\n",
            "IQ: 2 profissionais de dados\n",
            "CN: 1 profissionais de dados\n",
            "NZ: 1 profissionais de dados\n",
            "CL: 1 profissionais de dados\n",
            "MD: 1 profissionais de dados\n",
            "MT: 1 profissionais de dados\n"
          ]
        }
      ]
    },
    {
      "cell_type": "markdown",
      "source": [
        "Contexto da Análise:\n",
        "\n",
        "Verificamos a distribuição dos empregadores de profissionais de dados em diferentes países. A coluna 'company_location' contém informações sobre o país onde está localizada a sede ou filial do empregador de cada profissional de dados. O objetivo é entender como a demanda por profissionais de dados está distribuída globalmente e identificar os países com uma presença significativa nesse campo.\n",
        "\n",
        "Análise dos Resultados:\n",
        "\n",
        "Os Estados Unidos (US) lideram em número de empregadores de profissionais de dados, com 3.046 profissionais de dados registrados.\n",
        "Em segundo lugar, o Reino Unido (GB) com 173 profissionais de dados, seguido pelo Canadá (CA) com 87 profissionais de dados.\n",
        "Além dos EUA e do Reino Unido, outros países com uma presença considerável de empregadores de profissionais de dados incluem Espanha (ES) com 77 profissionais de dados, Índia (IN) com 58 e Alemanha (DE) com 56.\n",
        "Alguns países têm um número muito baixo de empregadores de profissionais de dados, como Hong Kong (HK) com apenas 1 profissional de dados, enquanto outros tem apenas algumas empresas representadas.\n",
        "\n",
        "Os resultados mostram de forma global a demanda por profissionais de dados, com os Estados Unidos liderando, mas com uma presença significativa em vários outros países ao redor do mundo. Essa análise e informações pode ser útil para profissionais que buscam oportunidades de emprego em diferentes regiões e para empresas que desejam entender melhor a concorrência e a disponibilidade de talentos em diferentes localidade."
      ],
      "metadata": {
        "id": "cKIMnI-Gix6g"
      }
    },
    {
      "cell_type": "code",
      "source": [
        "# Exercício 4"
      ],
      "metadata": {
        "id": "y03KQiG5qUCD"
      },
      "execution_count": 12,
      "outputs": []
    },
    {
      "cell_type": "code",
      "source": [
        "contagem_emprego = {}\n",
        "\n",
        "indice = 0\n",
        "\n",
        "total_linhas = len(df)\n",
        "\n",
        "while indice < total_linhas:\n",
        "\n",
        "    tipo_emprego = df['employment_type'][indice]\n",
        "\n",
        "    if tipo_emprego in contagem_emprego:\n",
        "\n",
        "        contagem_emprego[tipo_emprego] += 1\n",
        "    else:\n",
        "\n",
        "        contagem_emprego[tipo_emprego] = 1\n",
        "\n",
        "    indice += 1\n",
        "\n",
        "# Imprimindo os resultados\n",
        "print(\"Distribuição dos tipos de emprego entre os profissionais de dados:\")\n",
        "for tipo, contagem in contagem_emprego.items():\n",
        "    print(f\"{tipo}: {contagem} profissionais de dados\")"
      ],
      "metadata": {
        "colab": {
          "base_uri": "https://localhost:8080/"
        },
        "id": "VMEBz5x_gFwx",
        "outputId": "06897b67-db81-405e-a9cc-0322100053c8"
      },
      "execution_count": 13,
      "outputs": [
        {
          "output_type": "stream",
          "name": "stdout",
          "text": [
            "Distribuição dos tipos de emprego entre os profissionais de dados:\n",
            "FT: 3731 profissionais de dados\n",
            "CT: 11 profissionais de dados\n",
            "FL: 11 profissionais de dados\n",
            "PT: 18 profissionais de dados\n"
          ]
        }
      ]
    },
    {
      "cell_type": "markdown",
      "source": [
        "Contexto da Análise:\n",
        "\n",
        "Analisamos a distribuição dos tipos de emprego entre os profissionais de dados. A coluna 'employment_type' nos fornece informações sobre o tipo de emprego de cada profissional durante o respectivo ano. Os tipos de emprego incluem trabalho em período integral, contratual, meio período e freelancer, representados por códigos 'FT', 'CT', 'PT' e 'FL'. Nosso objetivo é compreender como esses diferentes tipos de emprego estão distribuídos entre os profissionais de dados.\n",
        "\n",
        "Análise dos Resultados:\n",
        "\n",
        "Através da análise exploratória foi revelado que a maioria dos profissionais de dados trabalha em período integral, depois meio período, seguido por contratual,  e freelancers.\n",
        "\n",
        "São informações que podem ser valiosas para empresas e recrutadores que buscam entender as preferências de emprego dos profissionais de dados e adaptar suas estratégias de contratação de talentos. Além disso, os profissionais de dados podem usar esses insights para avaliar a demanda por diferentes tipos de emprego."
      ],
      "metadata": {
        "id": "M90fo-dQgrgc"
      }
    },
    {
      "cell_type": "markdown",
      "source": [
        "_______________________________________________________________________________\n"
      ],
      "metadata": {
        "id": "5lfy3H2Kt8Jt"
      }
    },
    {
      "cell_type": "code",
      "source": [
        "#Exercício 5"
      ],
      "metadata": {
        "id": "-Stl9wNPxxfw"
      },
      "execution_count": 14,
      "outputs": []
    },
    {
      "cell_type": "code",
      "source": [
        "import pandas as pd\n",
        "\n",
        "# Função para analisar a coluna remote_ratio\n",
        "def analyze_remote_ratio(dataframe):\n",
        "    # Calcula a média usando uma função lambda\n",
        "    mean_remote_ratio = dataframe['remote_ratio'].apply(lambda x: x).mean()\n",
        "\n",
        "    # Calcula a mediana usando uma função lambda\n",
        "    median_remote_ratio = dataframe['remote_ratio'].apply(lambda x: x).median()\n",
        "\n",
        "    # Calcula o desvio padrão usando uma função lambda\n",
        "    std_remote_ratio = dataframe['remote_ratio'].apply(lambda x: x).std()\n",
        "\n",
        "    # Retorna os resultados\n",
        "    return mean_remote_ratio, median_remote_ratio, std_remote_ratio\n",
        "\n",
        "# Supondo que 'df' seja o seu DataFrame\n",
        "mean_remote_ratio, median_remote_ratio, std_remote_ratio = analyze_remote_ratio(df)\n",
        "\n",
        "print(\"Estatísticas da coluna remote_ratio:\")\n",
        "print(f\"Média: {mean_remote_ratio}\")\n",
        "print(f\"Mediana: {median_remote_ratio}\")\n",
        "print(f\"Desvio Padrão: {std_remote_ratio}\")"
      ],
      "metadata": {
        "colab": {
          "base_uri": "https://localhost:8080/"
        },
        "id": "D09H0t4s94eH",
        "outputId": "01a55318-3a0a-4ddf-e490-4791a2b083af"
      },
      "execution_count": 15,
      "outputs": [
        {
          "output_type": "stream",
          "name": "stdout",
          "text": [
            "Estatísticas da coluna remote_ratio:\n",
            "Média: 46.35375232033943\n",
            "Mediana: 0.0\n",
            "Desvio Padrão: 48.55297113950274\n"
          ]
        }
      ]
    },
    {
      "cell_type": "markdown",
      "source": [
        "Contexto de Análise:\n",
        "\n",
        "Fizemos a analise da coluna 'remote_ratio', pois da pra ter uma boa ideia sobre a proporção de trabalho remoto em diferentes posições que estão nos dados. Com a pandemia, muitas empresas tomaram como medida o home office em varios cargos diferentes, e fazer essa analise podemos ter insights sobre essa proporção.\n",
        "\n",
        "Análise dos Resultados:\n",
        "\n",
        "Verificamos que a média de 46.35%, nos informa que quase a metade do trabalho, pode ser realizado remotamente.\n",
        "A mediana em 0.0%, nos mostra que metade das posições de trabalho, não possui trabalho remoto. Com isso podemos imaginar que essa falta de trabalho remoto em muitas posições, pode ocorrer devido a politica da empresa, requisito do cargo etc.\n",
        "O desvio padrão de 48.55, mostra uma grande dispersão dos valores em relação a média, com isso podemos verificar uma variabilidade significativa nos níveis de trabalho remoto.\n"
      ],
      "metadata": {
        "id": "0DdNoEDg_r0i"
      }
    },
    {
      "cell_type": "code",
      "source": [
        "# Exercício 6"
      ],
      "metadata": {
        "id": "0cpaKC0PqKoP"
      },
      "execution_count": 16,
      "outputs": []
    },
    {
      "cell_type": "code",
      "source": [
        "import pandas as pd\n",
        "\n",
        "def analyze_salary_currency(dataframe):\n",
        "    # Calcula a contagem de cada moeda\n",
        "    currency_counts = dataframe['salary_currency'].value_counts()\n",
        "\n",
        "    # Calcula a proporção de cada moeda em relação ao total\n",
        "    currency_proportion = currency_counts / len(dataframe)\n",
        "\n",
        "    # Retorna os resultados\n",
        "    return currency_counts, currency_proportion\n",
        "\n",
        "# Supondo que 'df' seja o seu DataFrame\n",
        "currency_counts, currency_proportion = analyze_salary_currency(df)\n",
        "\n",
        "print(\"Contagem de cada moeda de salário:\")\n",
        "print(currency_counts)\n",
        "print(\"\\nProporção de cada moeda de salário em relação ao total:\")\n",
        "print(currency_proportion)"
      ],
      "metadata": {
        "id": "hcC8vJFkuBLC",
        "outputId": "62e8ec7e-9a0e-4ec8-f28a-bc54d7d3a1da",
        "colab": {
          "base_uri": "https://localhost:8080/"
        }
      },
      "execution_count": 17,
      "outputs": [
        {
          "output_type": "stream",
          "name": "stdout",
          "text": [
            "Contagem de cada moeda de salário:\n",
            "salary_currency\n",
            "USD    3237\n",
            "EUR     237\n",
            "GBP     161\n",
            "INR      60\n",
            "CAD      25\n",
            "AUD       9\n",
            "SGD       6\n",
            "BRL       6\n",
            "PLN       5\n",
            "CHF       4\n",
            "THB       4\n",
            "HUF       3\n",
            "DKK       3\n",
            "JPY       3\n",
            "TRY       3\n",
            "ILS       1\n",
            "HKD       1\n",
            "CZK       1\n",
            "MXN       1\n",
            "CLP       1\n",
            "Name: count, dtype: int64\n",
            "\n",
            "Proporção de cada moeda de salário em relação ao total:\n",
            "salary_currency\n",
            "USD    0.858393\n",
            "EUR    0.062848\n",
            "GBP    0.042694\n",
            "INR    0.015911\n",
            "CAD    0.006630\n",
            "AUD    0.002387\n",
            "SGD    0.001591\n",
            "BRL    0.001591\n",
            "PLN    0.001326\n",
            "CHF    0.001061\n",
            "THB    0.001061\n",
            "HUF    0.000796\n",
            "DKK    0.000796\n",
            "JPY    0.000796\n",
            "TRY    0.000796\n",
            "ILS    0.000265\n",
            "HKD    0.000265\n",
            "CZK    0.000265\n",
            "MXN    0.000265\n",
            "CLP    0.000265\n",
            "Name: count, dtype: float64\n"
          ]
        }
      ]
    },
    {
      "cell_type": "markdown",
      "source": [
        "Contexto da Análise:\n",
        "\n",
        "Analisamos a coluna 'salary_currency' para entender a distribuição das moedas em que os salários estão nesse conjunto de dados. COm isso, podemos verificar e obter insights sobre a localização e as preferências de moeda de pagamento em diferentes regiões.\n",
        "\n",
        "Análise dos Resultados:\n",
        "\n",
        "Vericicamos que a maioria dos salários são em doláres americanos (USD), com um total de 3237, isso nos mostra que existe uma presença forte de empregos e empresa no EUA.\n",
        "Em seguida, a moeda mais comum é o euro (EUR) com 237, seguido pela libra (GBP) com 161.\n",
        "Com isso notamos que existe uma força muito grande de mercado no EUA, e a presença de outras moedas nos mostra uma diversidade geográfica, mas a influência do dolar americano ainda é a mais dominante."
      ],
      "metadata": {
        "id": "cMN0Z_Cxt_MN"
      }
    },
    {
      "cell_type": "code",
      "source": [
        "# Exercício 7"
      ],
      "metadata": {
        "id": "5d8zrYtwarG7"
      },
      "execution_count": 19,
      "outputs": []
    },
    {
      "cell_type": "code",
      "source": [
        "import pandas as pd\n",
        "\n",
        "# Carregar os dados do arquivo CSV\n",
        "dados = pd.read_csv('/content/drive/MyDrive/salários - salários.csv')\n",
        "\n",
        "# Calculando Remote Ratio\n",
        "remote_ratio = (dados['remote_ratio'].sum() / len(dados)) * 100\n",
        "\n",
        "# Calculando a Média Salarial em USD\n",
        "media_salarial_usd = dados['salary_in_usd'].mean()\n",
        "\n",
        "print(\"Remote Ratio:\", remote_ratio)\n",
        "print(\"Média Salarial (em USD):\", media_salarial_usd)"
      ],
      "metadata": {
        "colab": {
          "base_uri": "https://localhost:8080/"
        },
        "id": "VHyYrcBvyneN",
        "outputId": "8acc23cc-8f25-4bf3-f037-5b9d7257bd6b"
      },
      "execution_count": 20,
      "outputs": [
        {
          "output_type": "stream",
          "name": "stdout",
          "text": [
            "Remote Ratio: 4635.375232033944\n",
            "Média Salarial (em USD): 137262.1646778043\n"
          ]
        }
      ]
    },
    {
      "cell_type": "markdown",
      "source": [
        "Contexto da Análise:\n",
        "\n",
        "Analisamos que é fornecido informações sobre diferentes variáveis relacionadas aos funcionários, incluindo dados sobre trabalho remoto, localização da empresa, tamanho da empresa, etc.\n",
        "Com isso, nosso objetivo é entender melhor a dinâmica da força de trabalho e o nível de remuneração na empresa.\n",
        "Análise dos Resultados:\n",
        "\n",
        "Remote Ratio:\n",
        "\n",
        "O Remote Ratio calcula a proporção de funcionários que trabalham remotamente em relação ao total de funcionários.\n",
        "Um valor de Remote Ratio mais alto pode indicar uma tendência de trabalho remoto na empresa.\n",
        "Por exemplo, se o Remote Ratio for 30%, isso significa que cerca de 30% dos funcionários trabalham remotamente.\n",
        "Isso pode indicar uma política de trabalho flexível na empresa ou uma resposta à pandemia COVID-19.\n",
        "Média Salarial em USD:\n",
        "\n",
        "A Média Salarial em USD calcula a média dos salários dos funcionários em dólares americanos.\n",
        "Isso pode nos fornecer insights sobre o nível de remuneração na empresa em comparação com outras empresas.\n",
        "Por exemplo, se a média salarial for $50,000 USD, isso significa que, em média, os funcionários ganham $50,000 USD por ano.\n",
        "Essa análise pode ser usada para avaliar a competitividade salarial da empresa e sua capacidade de atrair e segurar talentos.\n",
        "\n",
        "Análise dos Resultados:\n",
        "\n",
        "A análise do Remote Ratio e Média Salarial fornece insights valiosos sobre a dinâmica da força de trabalho e o nível de remuneração na empresa.\n",
        "Com esses resultados, a empresa pode considerar ajustes em suas políticas de trabalho remoto e estratégias de remuneração para melhorar a satisfação dos funcionários e a competitividade no mercado."
      ],
      "metadata": {
        "id": "wY2zszY1E14H"
      }
    }
  ]
}