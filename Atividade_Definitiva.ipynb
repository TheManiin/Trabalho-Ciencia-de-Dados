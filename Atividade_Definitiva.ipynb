{
  "nbformat": 4,
  "nbformat_minor": 0,
  "metadata": {
    "colab": {
      "provenance": []
    },
    "kernelspec": {
      "name": "python3",
      "display_name": "Python 3"
    },
    "language_info": {
      "name": "python"
    }
  },
  "cells": [
    {
      "cell_type": "code",
      "execution_count": 45,
      "metadata": {
        "colab": {
          "base_uri": "https://localhost:8080/"
        },
        "id": "TBR5zIzrB04M",
        "outputId": "bfd99ab3-ec33-4663-e486-7cfe2af217b8"
      },
      "outputs": [
        {
          "output_type": "stream",
          "name": "stdout",
          "text": [
            "Drive already mounted at /content/drive; to attempt to forcibly remount, call drive.mount(\"/content/drive\", force_remount=True).\n"
          ]
        }
      ],
      "source": [
        "# Conexão com o drive\n",
        "from google.colab import drive\n",
        "drive.mount('/content/drive')"
      ]
    },
    {
      "cell_type": "code",
      "source": [
        "# Carrega a biblioteca pandas e atribui um alias chamado \"pd\"\n",
        "import pandas as pd\n",
        "\n",
        "# Visualização de dados\n",
        "import matplotlib.pyplot as plt\n",
        "import seaborn as sns\n",
        "\n",
        "# Deixar colunas e linhas aparentes\n",
        "pd.set_option('display.max_columns', None)\n",
        "pd.set_option('display.max_rows', None)"
      ],
      "metadata": {
        "id": "XokQwCLqCCc3"
      },
      "execution_count": 48,
      "outputs": []
    },
    {
      "cell_type": "code",
      "source": [
        "#Faz a leitura do arquivo igm_modificado.csv - alterar o caminho de onde está dua tabela\n",
        "df = pd.read_csv('/content/drive/MyDrive/igm_modificado - igm_modificado.csv')\n",
        "df.shape"
      ],
      "metadata": {
        "colab": {
          "base_uri": "https://localhost:8080/"
        },
        "id": "brRDm-9-CHU9",
        "outputId": "a0f79132-7bda-4175-c92c-be45547ee115"
      },
      "execution_count": 49,
      "outputs": [
        {
          "output_type": "execute_result",
          "data": {
            "text/plain": [
              "(5570, 32)"
            ]
          },
          "metadata": {},
          "execution_count": 49
        }
      ]
    },
    {
      "cell_type": "code",
      "source": [
        "df.info()"
      ],
      "metadata": {
        "colab": {
          "base_uri": "https://localhost:8080/"
        },
        "id": "ATnNTkNFCKOT",
        "outputId": "fca59b37-8614-45d8-da84-e6022b7d8f40"
      },
      "execution_count": 50,
      "outputs": [
        {
          "output_type": "stream",
          "name": "stdout",
          "text": [
            "<class 'pandas.core.frame.DataFrame'>\n",
            "RangeIndex: 5570 entries, 0 to 5569\n",
            "Data columns (total 32 columns):\n",
            " #   Column                       Non-Null Count  Dtype  \n",
            "---  ------                       --------------  -----  \n",
            " 0   regiao                       5570 non-null   object \n",
            " 1   estado                       5570 non-null   object \n",
            " 2   municipio                    5570 non-null   object \n",
            " 3   codigo_mun                   5570 non-null   int64  \n",
            " 4   capital                      5570 non-null   int64  \n",
            " 5   porte                        5570 non-null   object \n",
            " 6   populacao                    5570 non-null   object \n",
            " 7   area                         5570 non-null   object \n",
            " 8   densidade_dem                5566 non-null   object \n",
            " 9   pib                          5570 non-null   float64\n",
            " 10  pib_pc                       5570 non-null   float64\n",
            " 11  participacao_transf_receita  4893 non-null   float64\n",
            " 12  servidores                   5233 non-null   float64\n",
            " 13  comissionados                5570 non-null   float64\n",
            " 14  comissionados_por_servidor   5570 non-null   object \n",
            " 15  perc_pop_econ_ativa          5565 non-null   float64\n",
            " 16  taxa_empreendedorismo        5570 non-null   float64\n",
            " 17  anos_estudo_empreendedor     5570 non-null   object \n",
            " 18  jornada_trabalho             5570 non-null   object \n",
            " 19  gasto_pc_saude               4881 non-null   float64\n",
            " 20  hab_p_medico                 4951 non-null   object \n",
            " 21  exp_vida                     5565 non-null   float64\n",
            " 22  gasto_pc_educacao            4880 non-null   float64\n",
            " 23  exp_anos_estudo              5565 non-null   float64\n",
            " 24  nota_ciencias                5558 non-null   object \n",
            " 25  nota_humanas                 5558 non-null   object \n",
            " 26  nota_linguagem               5557 non-null   object \n",
            " 27  nota_mat                     5557 non-null   object \n",
            " 28  nota_redacao                 5557 non-null   object \n",
            " 29  idhm                         4986 non-null   object \n",
            " 30  ranking_igm                  3303 non-null   object \n",
            " 31  indice_governanca            3303 non-null   object \n",
            "dtypes: float64(11), int64(2), object(19)\n",
            "memory usage: 1.4+ MB\n"
          ]
        }
      ]
    },
    {
      "cell_type": "code",
      "source": [
        "# Verificar se há dados faltantes em cada coluna\n",
        "dados_faltantes = df.isnull().sum()\n",
        "\n",
        "# Exibir as colunas com dados faltantes e a contagem de valores ausentes em cada uma\n",
        "print(\"Dados faltantes por coluna:\")\n",
        "print(dados_faltantes)"
      ],
      "metadata": {
        "colab": {
          "base_uri": "https://localhost:8080/"
        },
        "id": "trT8X5M7CLLN",
        "outputId": "07cfe82d-b4e6-4883-f70b-feff75bb2119"
      },
      "execution_count": 51,
      "outputs": [
        {
          "output_type": "stream",
          "name": "stdout",
          "text": [
            "Dados faltantes por coluna:\n",
            "regiao                            0\n",
            "estado                            0\n",
            "municipio                         0\n",
            "codigo_mun                        0\n",
            "capital                           0\n",
            "porte                             0\n",
            "populacao                         0\n",
            "area                              0\n",
            "densidade_dem                     4\n",
            "pib                               0\n",
            "pib_pc                            0\n",
            "participacao_transf_receita     677\n",
            "servidores                      337\n",
            "comissionados                     0\n",
            "comissionados_por_servidor        0\n",
            "perc_pop_econ_ativa               5\n",
            "taxa_empreendedorismo             0\n",
            "anos_estudo_empreendedor          0\n",
            "jornada_trabalho                  0\n",
            "gasto_pc_saude                  689\n",
            "hab_p_medico                    619\n",
            "exp_vida                          5\n",
            "gasto_pc_educacao               690\n",
            "exp_anos_estudo                   5\n",
            "nota_ciencias                    12\n",
            "nota_humanas                     12\n",
            "nota_linguagem                   13\n",
            "nota_mat                         13\n",
            "nota_redacao                     13\n",
            "idhm                            584\n",
            "ranking_igm                    2267\n",
            "indice_governanca              2267\n",
            "dtype: int64\n"
          ]
        }
      ]
    },
    {
      "cell_type": "code",
      "source": [
        "# Preencher os valores faltantes da variável participacao_transf_receita com a média\n",
        "df['participacao_transf_receita'] = df['participacao_transf_receita'].fillna(df['participacao_transf_receita'].mean())"
      ],
      "metadata": {
        "id": "FM8re5PKCsC9"
      },
      "execution_count": 54,
      "outputs": []
    },
    {
      "cell_type": "code",
      "source": [
        "# Verificar se há dados faltantes em cada coluna\n",
        "dados_faltantes = df.isnull().sum()\n",
        "\n",
        "# Exibir as colunas com dados faltantes e a contagem de valores ausentes em cada uma\n",
        "print(\"Dados faltantes por coluna:\")\n",
        "print(dados_faltantes)"
      ],
      "metadata": {
        "colab": {
          "base_uri": "https://localhost:8080/"
        },
        "id": "fky4UZQ2Cu5R",
        "outputId": "309643d2-d5d4-445d-9665-495b1764e5ad"
      },
      "execution_count": 64,
      "outputs": [
        {
          "output_type": "stream",
          "name": "stdout",
          "text": [
            "Dados faltantes por coluna:\n",
            "regiao                            0\n",
            "estado                            0\n",
            "municipio                         0\n",
            "codigo_mun                        0\n",
            "capital                           0\n",
            "porte                             0\n",
            "populacao                         0\n",
            "area                              0\n",
            "densidade_dem                     4\n",
            "pib                               0\n",
            "pib_pc                            0\n",
            "participacao_transf_receita       0\n",
            "servidores                        0\n",
            "comissionados                     0\n",
            "comissionados_por_servidor        0\n",
            "perc_pop_econ_ativa               0\n",
            "taxa_empreendedorismo             0\n",
            "anos_estudo_empreendedor          0\n",
            "jornada_trabalho                  0\n",
            "gasto_pc_saude                    0\n",
            "hab_p_medico                    619\n",
            "exp_vida                          0\n",
            "gasto_pc_educacao                 0\n",
            "exp_anos_estudo                   0\n",
            "nota_ciencias                    12\n",
            "nota_humanas                     12\n",
            "nota_linguagem                   13\n",
            "nota_mat                         13\n",
            "nota_redacao                     13\n",
            "idhm                            584\n",
            "ranking_igm                    2267\n",
            "indice_governanca              2267\n",
            "dtype: int64\n"
          ]
        }
      ]
    },
    {
      "cell_type": "code",
      "source": [
        "import pandas as pd\n",
        "import numpy as np\n",
        "import statsmodels.api as sm\n",
        "\n",
        "# Selecionar as variáveis de interesse\n",
        "X = df['participacao_transf_receita']  # Variável independente (participacao_transf_receita)\n",
        "y = df['pib']  # Variável dependente (PIB)\n",
        "\n",
        "# Adicionar uma constante à variável independente para estimar o intercepto\n",
        "X = sm.add_constant(X)\n",
        "\n",
        "# Ajustar o modelo de regressão linear\n",
        "modelo = sm.OLS(y, X).fit()\n",
        "\n",
        "# Mostrar os resultados da regressão\n",
        "print(modelo.summary())\n",
        "\n",
        "# Escrever a equação final do modelo\n",
        "intercepto = modelo.params['const']\n",
        "coeficiente_participacao_transf_receita = modelo.params['participacao_transf_receita']\n",
        "equacao_modelo = f\"PIB = {intercepto:.2f} + {coeficiente_participacao_transf_receita:.2f} * participacao_transf_receita\"\n",
        "print(\"Equação do modelo:\", equacao_modelo)"
      ],
      "metadata": {
        "colab": {
          "base_uri": "https://localhost:8080/"
        },
        "id": "b4ttGkE5EiVF",
        "outputId": "5f4ffec7-8ba1-4f41-e1d8-17c9d90c32b1"
      },
      "execution_count": 65,
      "outputs": [
        {
          "output_type": "stream",
          "name": "stdout",
          "text": [
            "                            OLS Regression Results                            \n",
            "==============================================================================\n",
            "Dep. Variable:                    pib   R-squared:                       0.055\n",
            "Model:                            OLS   Adj. R-squared:                  0.055\n",
            "Method:                 Least Squares   F-statistic:                     323.0\n",
            "Date:                Thu, 09 May 2024   Prob (F-statistic):           2.95e-70\n",
            "Time:                        22:35:19   Log-Likelihood:                -97240.\n",
            "No. Observations:                5570   AIC:                         1.945e+05\n",
            "Df Residuals:                    5568   BIC:                         1.945e+05\n",
            "Df Model:                           1                                         \n",
            "Covariance Type:            nonrobust                                         \n",
            "===============================================================================================\n",
            "                                  coef    std err          t      P>|t|      [0.025      0.975]\n",
            "-----------------------------------------------------------------------------------------------\n",
            "const                        1.829e+07   9.73e+05     18.809      0.000    1.64e+07    2.02e+07\n",
            "participacao_transf_receita -2.106e+05   1.17e+04    -17.973      0.000   -2.34e+05   -1.88e+05\n",
            "==============================================================================\n",
            "Omnibus:                    17037.161   Durbin-Watson:                   1.933\n",
            "Prob(Omnibus):                  0.000   Jarque-Bera (JB):       1513206346.083\n",
            "Skew:                          45.666   Prob(JB):                         0.00\n",
            "Kurtosis:                    2554.815   Cond. No.                         652.\n",
            "==============================================================================\n",
            "\n",
            "Notes:\n",
            "[1] Standard Errors assume that the covariance matrix of the errors is correctly specified.\n",
            "Equação do modelo: PIB = 18292692.40 + -210628.45 * participacao_transf_receita\n"
          ]
        }
      ]
    },
    {
      "cell_type": "markdown",
      "source": [
        "**A:** Fazendo a analise exploratória, notamos que a participação das transferencias de receitas tem relação com o pib e por isso optamos em escolhe-la para a regressão linear simples!\n",
        "\n",
        "\n",
        "**B:** Coeficiente: -2.106e+05\n",
        "p-valor < 0.001\n",
        "\n",
        "R2: 0.055\n",
        "\n",
        "\n",
        "**C:** PIB = 18292692.40 − 210628.45 * participacao_transf_receita\n",
        "\n",
        "\n",
        "**D:** Verificamos que o valor baixo de R2 nos mostra que uma pequena parte da variabilidade do pib é explicada pela variavel participacao_transf_receita. Porém o valor negativo de seu coeficiente e seu p-valor < 0.001, mostra que é uma variavel estatisticamente significativa e o aumento na participação na transferência de receitas está associado a uma diminuição no PIB. Também é possível que exista uma dependência de recursos transferidos, que podem não estar sendo utilizados de maneira correta e eficiente para o desenvolvimento econômico.\n"
      ],
      "metadata": {
        "id": "mO9BPS4oIhta"
      }
    },
    {
      "cell_type": "code",
      "source": [
        "import pandas as pd\n",
        "import numpy as np\n",
        "import statsmodels.api as sm\n",
        "\n",
        "# Preencher valores faltantes, se houver\n",
        "df['participacao_transf_receita'].fillna(df['participacao_transf_receita'].mean(), inplace=True)\n",
        "df['capital'].fillna(df['capital'].mean(), inplace=True)\n",
        "df['comissionados'].fillna(df['comissionados'].mean(), inplace=True)\n",
        "\n",
        "# Selecionar as variáveis independentes e dependente\n",
        "X = df[['participacao_transf_receita', 'capital', 'comissionados']]\n",
        "y = df['pib']\n",
        "\n",
        "# Adicionar uma constante à matriz X\n",
        "X = sm.add_constant(X)\n",
        "\n",
        "# Ajustar o modelo de regressão linear múltipla\n",
        "modelo = sm.OLS(y, X).fit()\n",
        "\n",
        "# Mostrar os resultados da regressão\n",
        "print(modelo.summary())"
      ],
      "metadata": {
        "colab": {
          "base_uri": "https://localhost:8080/"
        },
        "id": "A7ROR_n4evPg",
        "outputId": "638c1ac3-99f6-4b64-9fa3-4e4a9ffa638b"
      },
      "execution_count": 66,
      "outputs": [
        {
          "output_type": "stream",
          "name": "stdout",
          "text": [
            "                            OLS Regression Results                            \n",
            "==============================================================================\n",
            "Dep. Variable:                    pib   R-squared:                       0.435\n",
            "Model:                            OLS   Adj. R-squared:                  0.435\n",
            "Method:                 Least Squares   F-statistic:                     1431.\n",
            "Date:                Thu, 09 May 2024   Prob (F-statistic):               0.00\n",
            "Time:                        22:35:38   Log-Likelihood:                -95805.\n",
            "No. Observations:                5570   AIC:                         1.916e+05\n",
            "Df Residuals:                    5566   BIC:                         1.916e+05\n",
            "Df Model:                           3                                         \n",
            "Covariance Type:            nonrobust                                         \n",
            "===============================================================================================\n",
            "                                  coef    std err          t      P>|t|      [0.025      0.975]\n",
            "-----------------------------------------------------------------------------------------------\n",
            "const                        2.537e+06   7.95e+05      3.191      0.001    9.78e+05     4.1e+06\n",
            "participacao_transf_receita -4.521e+04   9453.067     -4.783      0.000   -6.37e+04   -2.67e+04\n",
            "capital                       3.01e+07   1.56e+06     19.281      0.000     2.7e+07    3.32e+07\n",
            "comissionados                2.068e+04    469.887     44.019      0.000    1.98e+04    2.16e+04\n",
            "==============================================================================\n",
            "Omnibus:                    14988.600   Durbin-Watson:                   1.938\n",
            "Prob(Omnibus):                  0.000   Jarque-Bera (JB):        694301924.298\n",
            "Skew:                          32.228   Prob(JB):                         0.00\n",
            "Kurtosis:                    1731.425   Cond. No.                     4.18e+03\n",
            "==============================================================================\n",
            "\n",
            "Notes:\n",
            "[1] Standard Errors assume that the covariance matrix of the errors is correctly specified.\n",
            "[2] The condition number is large, 4.18e+03. This might indicate that there are\n",
            "strong multicollinearity or other numerical problems.\n"
          ]
        }
      ]
    },
    {
      "cell_type": "markdown",
      "source": [
        "**A:** Escolhemos as variaveis: participacao_transf_receita, capital, comissionados, para previsão do pib na regressão linear multipla, pois através da análise exploratória percebemos que elas possuem uma relação forte com o pib.\n",
        "\n",
        "**B:** Coeficientes:\n",
        "Participação Transf. Receita\t-4.521e+04\n",
        "p-valor < 0.001\n",
        "\n",
        "Capital\t3.01e+07\n",
        "p-valor < 0.001\n",
        "\n",
        "Comissionados\t2.068e+04\n",
        "p-valor < 0.001\n",
        "\n",
        "R2: 0.435\n",
        "\n",
        "**C:** Equação do modelo: PIB = 2.537e+06 - 4.521e+04 * Participação Transf. Receita + 3.01e+07 * Capital + 2.068e+04 * Comissionados\n",
        "\n",
        "**D:** Todas as variáveis independentes são estatisticamente significativas, o valor P < 0.001, mostra que tem impacto no pib. Também o valor de R2 43.5% nos mostra que é um valor consideravel para ser observado no pib.\n",
        "\n",
        "O coeficiente negativo da variavel participacao_transf_receita, está ligado a diminuição no pib, nos levando a crer que dependendo da situação e da dependencia de transferências de recursos pode acarretar no prejuizo economico da região.\n",
        "\n",
        "Já o coeficiente da capital é positivo e está ligado ao aumento no pib. Acaba sendo esperado pois, existe um investimento e desenvolvimento econômico grande nas capitais.\n",
        "\n",
        "Comissionados também tem valor positivo no pib, o que pode explicar que administração pública ativa, pode ter efeitos positivos no crescimento econômico."
      ],
      "metadata": {
        "id": "ewA0OqjOG0av"
      }
    },
    {
      "cell_type": "code",
      "source": [
        "import pandas as pd\n",
        "import numpy as np\n",
        "from sklearn.model_selection import train_test_split\n",
        "from sklearn.ensemble import RandomForestRegressor\n",
        "from xgboost import XGBRegressor\n",
        "from sklearn.metrics import mean_squared_error, mean_absolute_error, r2_score\n",
        "import matplotlib.pyplot as plt\n",
        "\n",
        "# Selecionar apenas as colunas numéricas\n",
        "numeric_cols = df.select_dtypes(include=np.number)\n",
        "\n",
        "# Preencher valores faltantes nas colunas numéricas usando as médias\n",
        "df[numeric_cols.columns] = numeric_cols.fillna(numeric_cols.mean())\n",
        "\n",
        "\n",
        "# Selecionar as variáveis independentes e dependente\n",
        "X = df[['participacao_transf_receita', 'capital', 'comissionados']]\n",
        "y = df['pib']\n",
        "\n",
        "# Dividir os dados em conjunto de treinamento e teste\n",
        "X_train, X_test, y_train, y_test = train_test_split(X, y, test_size=0.2, random_state=42)\n",
        "\n",
        "# Treinar o modelo Random Forest\n",
        "rf_model = RandomForestRegressor(random_state=42)\n",
        "rf_model.fit(X_train, y_train)\n",
        "\n",
        "# Avaliar o modelo Random Forest\n",
        "rf_predictions = rf_model.predict(X_test)\n",
        "rf_mse = mean_squared_error(y_test, rf_predictions)\n",
        "rf_mae = mean_absolute_error(y_test, rf_predictions)\n",
        "rf_r2 = r2_score(y_test, rf_predictions)\n",
        "\n",
        "print(\"Random Forest Metrics:\")\n",
        "print(\"Mean Squared Error (MSE):\", rf_mse)\n",
        "print(\"Mean Absolute Error (MAE):\", rf_mae)\n",
        "print(\"R-squared (R²):\", rf_r2)\n",
        "\n",
        "# Treinar o modelo XGBoost\n",
        "xgb_model = XGBRegressor(random_state=42)\n",
        "xgb_model.fit(X_train, y_train)\n",
        "\n",
        "# Avaliar o modelo XGBoost\n",
        "xgb_predictions = xgb_model.predict(X_test)\n",
        "xgb_mse = mean_squared_error(y_test, xgb_predictions)\n",
        "xgb_mae = mean_absolute_error(y_test, xgb_predictions)\n",
        "xgb_r2 = r2_score(y_test, xgb_predictions)\n",
        "\n",
        "print(\"\\nXGBoost Metrics:\")\n",
        "print(\"Mean Squared Error (MSE):\", xgb_mse)\n",
        "print(\"Mean Absolute Error (MAE):\", xgb_mae)\n",
        "print(\"R-squared (R²):\", xgb_r2)\n",
        "\n",
        "# Plotar a importância das variáveis para o modelo Random Forest\n",
        "plt.bar(X.columns, rf_model.feature_importances_)\n",
        "plt.title('Random Forest Feature Importance')\n",
        "plt.xlabel('Features')\n",
        "plt.ylabel('Importance')\n",
        "plt.show()\n",
        "\n",
        "# Plotar a importância das variáveis para o modelo XGBoost\n",
        "plt.bar(X.columns, xgb_model.feature_importances_)\n",
        "plt.title('XGBoost Feature Importance')\n",
        "plt.xlabel('Features')\n",
        "plt.ylabel('Importance')\n",
        "plt.show()"
      ],
      "metadata": {
        "colab": {
          "base_uri": "https://localhost:8080/",
          "height": 1000
        },
        "id": "mkPER5BhJXPT",
        "outputId": "c702d32a-9e14-422c-f0ee-ad168fcec2b8"
      },
      "execution_count": 69,
      "outputs": [
        {
          "output_type": "stream",
          "name": "stdout",
          "text": [
            "Random Forest Metrics:\n",
            "Mean Squared Error (MSE): 43818797214973.875\n",
            "Mean Absolute Error (MAE): 1027595.949852277\n",
            "R-squared (R²): 0.4976030677933514\n",
            "\n",
            "XGBoost Metrics:\n",
            "Mean Squared Error (MSE): 20677234204211.52\n",
            "Mean Absolute Error (MAE): 836877.5386189268\n",
            "R-squared (R²): 0.76292870432408\n"
          ]
        },
        {
          "output_type": "display_data",
          "data": {
            "text/plain": [
              "<Figure size 640x480 with 1 Axes>"
            ],
            "image/png": "[encoded data removed]"
          },
          "metadata": {}
        },
        {
          "output_type": "display_data",
          "data": {
            "text/plain": [
              "<Figure size 640x480 with 1 Axes>"
            ],
            "image/png": "[encoded data removed]"
          },
          "metadata": {}
        }
      ]
    },
    {
      "cell_type": "markdown",
      "source": [
        "**A:** Foram escolidas as variaveis: participacao_transf_receita, capital e comissionados, com base no potencial e importancia na variabilidade do pib. A participacao_transf_receita pode nos mostrar transferências de receita no PIB, a capital pode nos mostrar o investimento e o desenvolvimento economico, e comissionados pode ser uma medida do emprego de funcionários públicos.\n",
        "\n",
        "**B:** Mean Squared Error (MSE): Pois é nos apresenta a qualidade das previsões do modelo, tendo em vista que o MSE mais baixo inidica previsões mais precisas.\n",
        "\n",
        "Mean Absolute Error (MAE): Nos mostra a precisão das previsões do modelo, ele é menos sensível a outliers e nos da uma ideia dos erros absolutos médios das previsões.\n",
        "\n",
        "R-squared (R2): Acaba nos mostrando a proporção da variabilidade na variavel dependente e como é explicada pelas variáveis independentes no modelo. Quanto maior o R2, nos mostra que os dados se ajustam melhor no modelo.\n",
        "\n",
        "**C:** No modelo Random Forest a variavel mais importante é: comissionados, seguido de participacao_transf_receita e depois capital.\n",
        "\n",
        "No modelo XGBoost a variavel mais importante é: capital, seguido de comissionados e depois participacao_transf_receita.\n",
        "\n",
        "**D:** Analisamos os resultados e com base no que nos é apresentado através do R2 do Random Forest 0.4976 e no R2 do XGBoost 0.7629, percebos que existe uma melhor variabilidade no pib em ambos os modelos, se comparado com o modelo OLS Também nos explica melhor sobre a qualidade das previsões, a precisão  na previsão do modelo e a proporção da variabilidade das variaveis."
      ],
      "metadata": {
        "id": "LUcjCrNxXdSH"
      }
    },
    {
      "cell_type": "code",
      "source": [
        "#Questão 4:"
      ],
      "metadata": {
        "id": "CmVNKAsMrIhn"
      },
      "execution_count": 68,
      "outputs": []
    },
    {
      "cell_type": "markdown",
      "source": [
        "**4:** Random Forest Metrics:\n",
        "Mean Squared Error (MSE): 43818797214973.875\n",
        "Mean Absolute Error (MAE): 1027595.949852277\n",
        "R-squared (R²): 0.4976030677933514\n",
        "\n",
        "XGBoost Metrics:\n",
        "Mean Squared Error (MSE): 20677234204211.52\n",
        "Mean Absolute Error (MAE): 836877.5386189268\n",
        "R-squared (R²): 0.76292870432408\n",
        "\n",
        "Comparando o resultado dos 2 modelos, percebemos que o R2 do XGBoost é maior que o do Random Forest, porque nos mostra que nesse modelo possui mais variabilidade dos dados e acaba se ajustando melhor. Também nos mostra que os valores de MSE e o MAE do XGBoot são menores em comparação ao Random Forest, o que explica que é melhor para a previsão do pib.\n",
        "\n",
        "Portanto o modelo XGBoost é melhor!"
      ],
      "metadata": {
        "id": "ay-_EaBaomJT"
      }
    },
    {
      "cell_type": "code",
      "source": [],
      "metadata": {
        "id": "8XYEHCjJp6po"
      },
      "execution_count": null,
      "outputs": []
    }
  ]
}